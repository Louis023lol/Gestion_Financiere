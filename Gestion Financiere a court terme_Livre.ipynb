{
 "cells": [
  {
   "cell_type": "markdown",
   "metadata": {},
   "source": [
    "# Introcuction Livre: Gestion financière à court terme _ Et éléments de théorie financière"
   ]
  },
  {
   "cell_type": "markdown",
   "metadata": {},
   "source": "Chapitre #2 La valeur de l'argent dans le temps et la décision d'inverstir"
  },
  {
   "cell_type": "code",
   "metadata": {
    "ExecuteTime": {
     "end_time": "2025-03-20T02:34:14.223784Z",
     "start_time": "2025-03-20T02:34:14.213212Z"
    }
   },
   "source": [
    "import math\n",
    "\n",
    "\n",
    "# 2.3 La valeur future d'une annuité\n",
    "def valeur_future_annuite_immediate(paiement, taux_interet, nombre_periodes):\n",
    "    \"\"\"\n",
    "    Calculer la valeur future d'une annuité immédiate.\n",
    "    \n",
    "    Arguments:\n",
    "    paiement -- montant de chaque paiement\n",
    "    taux_interet -- taux d'intérêt par période (en décimal, par exemple 0.05 pour 5%)\n",
    "    nombre_periodes -- nombre total de paiements\n",
    "    \n",
    "    Retourne:\n",
    "    La valeur future de l'annuité.\n",
    "    \"\"\"\n",
    "    valeur_future = paiement * ((1 + taux_interet)**nombre_periodes - 1) / taux_interet\n",
    "    return valeur_future\n",
    "\n",
    "def valeur_future_annuite_due(paiement, taux_interet, nombre_periodes):\n",
    "    \"\"\"\n",
    "    Calculer la valeur future d'une annuité due.\n",
    "    \n",
    "    Arguments:\n",
    "    paiement -- montant de chaque paiement\n",
    "    taux_interet -- taux d'intérêt par période (en décimal, par exemple 0.05 pour 5%)\n",
    "    nombre_periodes -- nombre total de paiements\n",
    "    \n",
    "    Retourne:\n",
    "    La valeur future de l'annuité.\n",
    "    \"\"\"\n",
    "    valeur_future = paiement * ((1 + taux_interet)**nombre_periodes - 1) / taux_interet * (1 + taux_interet)\n",
    "    return valeur_future\n",
    "\n",
    "# Exemple d'utilisation\n",
    "paiement = 10000  # montant de chaque paiement\n",
    "taux_interet = 0.10  # taux d'intérêt de 5%\n",
    "nombre_periodes = 10  # nombre total de paiements (par exemple, sur 10 ans)\n",
    "\n",
    "# Calculer la valeur future pour une annuité immédiate\n",
    "vf_immediate = valeur_future_annuite_immediate(paiement, taux_interet, nombre_periodes)\n",
    "print(f\"2.3. Valeur future d'une annuité immédiate : ${vf_immediate:.2f}\")\n",
    "\n",
    "# Calculer la valeur future pour une annuité due\n",
    "vf_due = valeur_future_annuite_due(paiement, taux_interet, nombre_periodes)\n",
    "print(f\"Valeur future d'une annuité due : ${vf_due:.2f}\\n\")\n"
   ],
   "outputs": [
    {
     "name": "stdout",
     "output_type": "stream",
     "text": [
      "2.3. Valeur future d'une annuité immédiate : $159374.25\n",
      "Valeur future d'une annuité due : $175311.67\n",
      "\n"
     ]
    }
   ],
   "execution_count": 19
  },
  {
   "cell_type": "code",
   "metadata": {
    "ExecuteTime": {
     "end_time": "2025-03-20T02:33:24.933463Z",
     "start_time": "2025-03-20T02:33:24.924660Z"
    }
   },
   "source": [
    "# 2.4. Calculer la valeur future pour une annuité due\n",
    "def actualiser_valeur_future(valeur_future, taux_interet, nombre_annees, periodes_par_annee):\n",
    "    \"\"\"\n",
    "    Cette fonction calcule la valeur présente d'une valeur future avec actualisation sur une base fractionnée.\n",
    "    \n",
    "    Arguments:\n",
    "    valeur_future -- le montant futur à actualiser\n",
    "    taux_interet -- le taux d'intérêt annuel (en décimal, par exemple 0.15 pour 15%)\n",
    "    nombre_annees -- la durée en années avant que la valeur future ne soit reçue ou payée\n",
    "    periodes_par_annee -- le nombre de fois par année où l'intérêt est composé\n",
    "    \n",
    "    Retourne:\n",
    "    La valeur présente actualisée.\n",
    "    \"\"\"\n",
    "    # Calculer le nombre total de périodes\n",
    "    total_periodes = nombre_annees * periodes_par_annee\n",
    "    \n",
    "    # Taux d'intérêt par période\n",
    "    taux_periode = taux_interet / periodes_par_annee\n",
    "    \n",
    "    # Calculer la valeur présente\n",
    "    valeur_presente = valeur_future / math.pow((1 + taux_periode), total_periodes)\n",
    "    return valeur_presente\n",
    "\n",
    "# Exemple d'utilisation de la fonction\n",
    "if __name__ == \"__main__\":\n",
    "    # Valeur future à actualiser\n",
    "    valeur_future = 10000  # en dollars\n",
    "    \n",
    "    # Taux d'intérêt annuel\n",
    "    taux_interet = 0.10  # 15% en décimal\n",
    "    \n",
    "    # Durée en années\n",
    "    nombre_annees = 5  # 10 ans\n",
    "    \n",
    "    # Nombre de fois par année où l'intérêt est composé\n",
    "    periodes_par_annee = 2  # Par exemple, semestriellement\n",
    "    \n",
    "    # Calculer la valeur présente\n",
    "    valeur_presente = actualiser_valeur_future (valeur_future, taux_interet, nombre_annees, periodes_par_annee)\n",
    "    \n",
    "    # Afficher le résultat\n",
    "    print(f\"2.4. La valeur présente de ${valeur_future:.2f} percu dans {nombre_annees} ans à un taux d'intérêt annuel de {taux_interet*100:.2f}% composé {periodes_par_annee} fois par année est de: ${valeur_presente:.2f}\\n\")\n"
   ],
   "outputs": [
    {
     "name": "stdout",
     "output_type": "stream",
     "text": [
      "2.4. La valeur présente de $10000.00 percu dans 5 ans à un taux d'intérêt annuel de 10.00% composé 2 fois par année est de: $6139.13\n",
      "\n"
     ]
    }
   ],
   "execution_count": 2
  },
  {
   "cell_type": "code",
   "metadata": {
    "ExecuteTime": {
     "end_time": "2025-03-20T02:33:24.989228Z",
     "start_time": "2025-03-20T02:33:24.978875Z"
    }
   },
   "source": [
    "#2.5. Valeur actuelle d'une annuitée (A_n,r)\n",
    "import math\n",
    "\n",
    "def valeur_actuelle_annuite(paiement, taux_interet, nombre_periodes, type_annuite='immediate'):\n",
    "    \"\"\"\n",
    "    Exemple de problème: Un fournisseur de matériel roulant nous propose de régler nos paiements selon 2 cas différents:\n",
    "    Un versement immédiat d'un certain montant (à ajouter au montant sortant de cette formule)+ des versements de fin d'année de (paiement)\n",
    "    pendant (nombre de périodes) à un taux d'intérêts de (taux_interets)\n",
    "\n",
    "    Exemple de problème: \n",
    "\n",
    "    Cette fonction calcule la valeur actuelle d'une annuité immédiate ou due.\n",
    "    Calculer la valeur actuelle d'une annuité donne une estimation de la valeur actuelle d'une série de paiements futurs en tenant compte d'un taux d'intérêt.\n",
    "\n",
    "    Retourne:\n",
    "    La valeur actuelle de l'annuité.\n",
    "    \"\"\"\n",
    "    if type_annuite == 'immediate':\n",
    "        valeur_presente = paiement * (1 - math.pow(1 + taux_interet, -nombre_periodes)) / taux_interet\n",
    "    elif type_annuite == 'due':\n",
    "        valeur_presente = paiement * (1 - math.pow(1 + taux_interet, -nombre_periodes)) / taux_interet * (1 + taux_interet)\n",
    "    else:\n",
    "        raise ValueError(\"Type d'annuité invalide. Utilisez 'immediate' ou 'due'.\")\n",
    "    \n",
    "    return valeur_presente\n",
    "\n",
    "# Exemple d'utilisation de la fonction\n",
    "if __name__ == \"__main__\":\n",
    "    # Montant de chaque paiement\n",
    "    paiement = 10000  # en dollars\n",
    "    \n",
    "    # Taux d'intérêt par période\n",
    "    taux_interet = 0.1  # 15% en décimal\n",
    "    \n",
    "    # Nombre total de paiements\n",
    "    nombre_periodes = 5  # par exemple, sur 10 ans\n",
    "    \n",
    "    # Calculer la valeur actuelle pour une annuité immédiate\n",
    "    valeur_presente_immediate = valeur_actuelle_annuite (paiement, taux_interet, nombre_periodes, 'immediate')\n",
    "    print(f\"2.5. La valeur actuelle d'une annuité immédiate est de: ${valeur_presente_immediate:.2f} (souvent celle prise)\")\n",
    "    \n",
    "    # Calculer la valeur actuelle pour une annuité due\n",
    "    valeur_presente_due = valeur_actuelle_annuite(paiement, taux_interet, nombre_periodes, 'due')\n",
    "    print(f\"La valeur actuelle d'une annuité due est de: ${valeur_presente_due:.2f}\\n\") #paiement fait directement au début de l'année (on ne fait aucun intérêts sur la première année)\n"
   ],
   "outputs": [
    {
     "name": "stdout",
     "output_type": "stream",
     "text": [
      "2.5. La valeur actuelle d'une annuité immédiate est de: $37907.87 (souvent celle prise)\n",
      "La valeur actuelle d'une annuité due est de: $41698.65\n",
      "\n"
     ]
    }
   ],
   "execution_count": 3
  },
  {
   "cell_type": "code",
   "metadata": {
    "ExecuteTime": {
     "end_time": "2025-03-20T02:33:25.108006Z",
     "start_time": "2025-03-20T02:33:25.097866Z"
    }
   },
   "source": [
    "#2.5. Valeur actuelle d'une annuitée (A_n,r)\n",
    "import math\n",
    "\n",
    "def Facteur_valeur_actuelle_annuite(taux_interet, Nbr_Années, Nbr_Fois_Par_Année, type_annuite='immediate'):\n",
    "    \"\"\"\n",
    "    Retourne le facteurs d'intérêt de la valeur actuelle d'une annuité d'un dollar au taux r pour n périodes\n",
    "    \"\"\"\n",
    "\n",
    "    nombre_periodes=Nbr_Années*Nbr_Fois_Par_Année\n",
    "    Taux_Interet_Mensuel=taux_interet/Nbr_Fois_Par_Année\n",
    "\n",
    "    if type_annuite == 'immediate':\n",
    "        valeur_presente = (1 - ((1 + Taux_Interet_Mensuel)** -nombre_periodes)) / Taux_Interet_Mensuel\n",
    "    elif type_annuite == 'due':\n",
    "        valeur_presente = ((1 - ((1 + Taux_Interet_Mensuel)** -nombre_periodes)) / Taux_Interet_Mensuel) * (1 + Taux_Interet_Mensuel)\n",
    "    else:\n",
    "        raise ValueError(\"Type d'annuité invalide. Utilisez 'immediate' ou 'due'.\")\n",
    "    \n",
    "    return valeur_presente\n",
    "\n",
    "# Exemple d'utilisation de la fonction\n",
    "if __name__ == \"__main__\":\n",
    "    \n",
    "    # Taux d'intérêt par période\n",
    "    taux_interet = 0.12  # 15% en décimal\n",
    "\n",
    "    Nbr_Années=5\n",
    "    Nbr_Fois_Par_Année=2\n",
    "\n",
    "\n",
    "\n",
    "    # Calculer la valeur actuelle pour une annuité immédiate\n",
    "    valeur_presente_immediate = Facteur_valeur_actuelle_annuite (taux_interet, Nbr_Années, Nbr_Fois_Par_Année, 'immediate')\n",
    "    print(f\"2.5. La valeur actuelle d'une annuité immédiate est de {valeur_presente_immediate:.2f} (souvent celle prise)\")\n",
    "    \n",
    "    # Calculer la valeur actuelle pour une annuité due\n",
    "    valeur_presente_due = Facteur_valeur_actuelle_annuite(taux_interet, Nbr_Années, Nbr_Fois_Par_Année, 'due')\n",
    "    print(f\"La valeur actuelle d'une annuité due est de {valeur_presente_due:.2f}\\n\") #paiement fait directement au début de l'année (on ne fait aucun intérêts sur la première année)"
   ],
   "outputs": [
    {
     "name": "stdout",
     "output_type": "stream",
     "text": [
      "2.5. La valeur actuelle d'une annuité immédiate est de 7.36 (souvent celle prise)\n",
      "La valeur actuelle d'une annuité due est de 7.80\n",
      "\n"
     ]
    }
   ],
   "execution_count": 4
  },
  {
   "cell_type": "code",
   "metadata": {
    "ExecuteTime": {
     "end_time": "2025-03-20T02:33:27.670753Z",
     "start_time": "2025-03-20T02:33:25.224503Z"
    }
   },
   "source": [
    "# 2.5. Valeur actuelle d'un versement constant à chaque année pendant la période\n",
    "import pandas as pd\n",
    "\n",
    "def valeur_actuelle_annuite(paiement, taux_interet, nombre_periodes):\n",
    "    valeur_presente = paiement / (1 + taux_interet) ** nombre_periodes\n",
    "    return valeur_presente\n",
    "\n",
    "# Montant de chaque paiement\n",
    "paiement = 2000  # en dollars\n",
    "    \n",
    "# Taux d'intérêt par période\n",
    "taux_interet = 0.10  # 10% en décimal\n",
    "    \n",
    "# Nombre total de paiements\n",
    "nombre_periodes = 3  # par exemple, sur 3 ans\n",
    "\n",
    "# Liste pour stocker les valeurs présentes\n",
    "Tableau = []\n",
    "\n",
    "# Calculer la valeur actuelle pour chaque période\n",
    "for i in range(1, nombre_periodes + 1):  # Inclure la période finale\n",
    "    valeur = valeur_actuelle_annuite(paiement, taux_interet, i)\n",
    "    Tableau.append(valeur)\n",
    "\n",
    "# Créer un DataFrame avec les résultats\n",
    "df = pd.DataFrame({\n",
    "    'Année': range(1, nombre_periodes + 1),\n",
    "    'Valeur Actuelle for the year ($)': Tableau\n",
    "})\n",
    "\n",
    "# Afficher le DataFrame\n",
    "print(df)\n",
    "\n",
    "\n",
    "#Ressortir une valeur simple (a simplifier en SQL plus tard)\n",
    "print(Tableau[0])\n"
   ],
   "outputs": [
    {
     "name": "stdout",
     "output_type": "stream",
     "text": [
      "   Année  Valeur Actuelle for the year ($)\n",
      "0      1                       1818.181818\n",
      "1      2                       1652.892562\n",
      "2      3                       1502.629602\n",
      "1818.181818181818\n"
     ]
    }
   ],
   "execution_count": 5
  },
  {
   "cell_type": "code",
   "metadata": {
    "ExecuteTime": {
     "end_time": "2025-03-20T02:33:27.718160Z",
     "start_time": "2025-03-20T02:33:27.708776Z"
    }
   },
   "source": [
    "#2.6. La valeur actuelle d'un flux monétaire périodique constant et perpétuel\n",
    "def valeur_actuelle_perpetuite(paiement, taux_interet):\n",
    "    \"\"\"\n",
    "    Cette fonction calcule la valeur actuelle d'un flux monétaire périodique constant et perpétuel.\n",
    "    \n",
    "    Arguments:\n",
    "    paiement -- montant de chaque paiement périodique\n",
    "    taux_interet -- taux d'intérêt par période (en décimal, par exemple 0.05 pour 5%)\n",
    "    \n",
    "    Retourne:\n",
    "    La valeur actuelle de la perpétuité.\n",
    "    \"\"\"\n",
    "    if taux_interet <= 0:\n",
    "        raise ValueError(\"Le taux d'intérêt doit être supérieur à zéro.\")\n",
    "    \n",
    "    valeur_presente = paiement / taux_interet\n",
    "    return valeur_presente\n",
    "\n",
    "# Exemple d'utilisation de la fonction\n",
    "if __name__ == \"__main__\":\n",
    "    # Montant de chaque paiement périodique\n",
    "    paiement = 1000.0  # en dollars\n",
    "    \n",
    "    # Taux d'intérêt par période\n",
    "    taux_interet = 0.05  # 5% en décimal\n",
    "    \n",
    "    # Calculer la valeur actuelle de la perpétuité\n",
    "    valeur_presente = valeur_actuelle_perpetuite(paiement, taux_interet)\n",
    "    print(f\"La valeur actuelle d'une perpétuité avec des paiements de ${paiement:.2f} et un taux d'intérêt de {taux_interet*100:.2f}% est de: ${valeur_presente:.2f}\\n\")\n"
   ],
   "outputs": [
    {
     "name": "stdout",
     "output_type": "stream",
     "text": [
      "La valeur actuelle d'une perpétuité avec des paiements de $1000.00 et un taux d'intérêt de 5.00% est de: $20000.00\n",
      "\n"
     ]
    }
   ],
   "execution_count": 6
  },
  {
   "cell_type": "code",
   "metadata": {
    "ExecuteTime": {
     "end_time": "2025-03-20T02:33:27.806837Z",
     "start_time": "2025-03-20T02:33:27.797956Z"
    }
   },
   "source": [
    "import math\n",
    "#2.7. L'actualisation par fraciton d'année d'une annuité\n",
    "def valeur_actuelle_annuite_fraction(paiement, taux_interet_annuel, nombre_periodes, frequence, type_annuite='immediate'):\n",
    "    \"\"\"\n",
    "    Cette fonction calcule la valeur actuelle d'une annuité (immédiate ou due) en prenant en compte la fraction d'année.\n",
    "    \n",
    "    Arguments:\n",
    "    paiement -- Montant de chaque paiement\n",
    "    taux_interet_annuel -- Taux d'intérêt annuel en décimal\n",
    "    nombre_periodes -- Nombre total de paiements\n",
    "    frequence -- Nombre de paiements par an (e.g., 12 pour mensuel, 4 pour trimestriel)\n",
    "    type_annuite -- Type d'annuité ('immediate' ou 'due')\n",
    "    \n",
    "    Retourne:\n",
    "    La valeur actuelle de l'annuité.\n",
    "    \"\"\"\n",
    "    # Calcul du taux d'intérêt par période\n",
    "    taux_interet_periodique = taux_interet_annuel / frequence\n",
    "    \n",
    "    # Calcul du nombre total de périodes (paiements)\n",
    "    total_periodes = nombre_periodes * frequence\n",
    "    \n",
    "    if type_annuite == 'immediate':\n",
    "        valeur_presente = (paiement/frequence) * (1 - math.pow(1 + taux_interet_periodique, -total_periodes)) / taux_interet_periodique\n",
    "    else:\n",
    "        raise ValueError(\"Type d'annuité invalide. Utilisez 'immediate' ou 'due'.\")\n",
    "    \n",
    "    return valeur_presente\n",
    "\n",
    "# Exemple d'utilisation de la fonction\n",
    "if __name__ == \"__main__\":\n",
    "    # Montant de chaque paiement\n",
    "    paiement = 18000  # en dollars\n",
    "    \n",
    "    # Taux d'intérêt annuel\n",
    "    taux_interet_annuel = 0.06  # 10% en décimal\n",
    "    \n",
    "    # Nombre total d'années\n",
    "    nombre_periodes = 9  # par exemple, sur 10 ans\n",
    "    \n",
    "    # Fréquence des paiements\n",
    "    frequence = 4  # Paiements trimestriels\n",
    "    \n",
    "    # Calculer la valeur actuelle pour une annuité immédiate\n",
    "    valeur_presente_immediate = valeur_actuelle_annuite_fraction(paiement, taux_interet_annuel, nombre_periodes, frequence, 'immediate')\n",
    "    print(f\"La valeur actuelle d'une annuité immédiate est de: ${valeur_presente_immediate:.2f}\")\n",
    "    "
   ],
   "outputs": [
    {
     "name": "stdout",
     "output_type": "stream",
     "text": [
      "La valeur actuelle d'une annuité immédiate est de: $124473.08\n"
     ]
    }
   ],
   "execution_count": 7
  },
  {
   "cell_type": "code",
   "metadata": {
    "ExecuteTime": {
     "end_time": "2025-03-20T02:33:27.933243Z",
     "start_time": "2025-03-20T02:33:27.925383Z"
    }
   },
   "source": [
    "#2.8. L'actualisation de périodicités lorsque les périodes de capitalisation diffèerent de celles des versements\n",
    "\n",
    "# 2.8.1. La détermination des mensulaités d'une hypothèque conventionnelle\n",
    "\n",
    "\n",
    "def Valeur_Hypothèque_apres_emission(principal, taux_annuel, duree_annees):\n",
    "    \"\"\"\n",
    "    Calcule le versement mensuel pour une hypothèque conventionnelle.\n",
    "\n",
    "    :param principal: Le montant emprunté (le principal).\n",
    "    :param taux_annuel: Le taux d'intérêt annuel en pourcentage (ex: 12 pour 12%).\n",
    "    :param duree_annees: La durée du prêt en années.\n",
    "    :return: Le montant du versement mensuel.\n",
    "    \"\"\"\n",
    "\n",
    "    # a) taux mensuel équivalent capitalisé semestriellement\n",
    "    taux_semestriel = taux_annuel / 2 / 100  # Conversion en semestriel (2 fois par année)\n",
    "    nombre_paiements = duree_annees * 12   # Nombre total de paiements (en mois)\n",
    "    \n",
    "    Taux_mensuel_equivalent=(1+taux_semestriel)**(2/12)\n",
    "\n",
    "    # b) Versement mensuel avec relation de la valeur actuelle d'une ériodicité\n",
    "    versement_mensuel = principal*(Taux_mensuel_equivalent-1)/(1-(Taux_mensuel_equivalent)**(-duree_annees*12))\n",
    "\n",
    "    return versement_mensuel\n",
    "\n",
    "# Exemple d'utilisation\n",
    "principal = 1000000  # Montant emprunté\n",
    "taux_annuel = 12  # Taux d'intérêt annuel en pourcentage\n",
    "duree_annees = 20  # Durée du prêt en années\n",
    "\n",
    "versement = Valeur_Hypothèque_apres_emission(principal, taux_annuel, duree_annees)\n",
    "print(f\"Le versement mensuel pour rembourser l'hypothèque est de: {versement:.2f} $\")\n"
   ],
   "outputs": [
    {
     "name": "stdout",
     "output_type": "stream",
     "text": [
      "Le versement mensuel pour rembourser l'hypothèque est de: 10809.74 $\n"
     ]
    }
   ],
   "execution_count": 8
  },
  {
   "cell_type": "code",
   "metadata": {
    "ExecuteTime": {
     "end_time": "2025-03-20T02:33:28.005474Z",
     "start_time": "2025-03-20T02:33:27.993222Z"
    }
   },
   "source": [
    "#2.8. L'actualisation de périodicités lorsque les périodes de capitalisation diffèrent de celles des versements\n",
    "\n",
    "# 2.8.2. La détermination de la valeur d'une hypothèque a une date donnée après son émission\n",
    "def calculer_valeur_hypothèque(Valeur_Actif, Pourcentage_financement, taux_annuel, duree_annees, Valeur_année):\n",
    "    \"\"\"\n",
    "    Calcule la valeur actuelle de l'hypothèque (montant restant à payer ou dette sur le bien)\n",
    "    à une date donnée après son émission.\n",
    "\n",
    "    :param Valeur_Actif: La valeur du bien qu'on veut faire l'hypothèque.\n",
    "    :param Pourcentage_financement: Le pourcentage du bien qu'on finance par hypothèque.\n",
    "    :param taux_annuel: Le taux d'intérêt annuel en pourcentage.\n",
    "    :param duree_annees: La durée du prêt en années.\n",
    "    :param Valeur_année: Le nombre d'années après le début de l'hypothèque (moment qu'on cherche le montant restant à payer).\n",
    "    :return: La valeur actuelle de l'hypothèque.\n",
    "    \"\"\"\n",
    "\n",
    "    # a) taux mensuel équivalent capitalisé semestriellement\n",
    "    taux_semestriel = taux_annuel / 2 / 100  # Conversion en semestriel (2 fois par année)\n",
    "    nombre_paiements = Durée_Années * 12  # Nombre total de paiements (en mois)\n",
    "    Taux_mensuel_equivalent = (1 + taux_semestriel) ** (2 / 12)\n",
    "\n",
    "    # b) Versement mensuel avec relation de la valeur actuelle d'une ériodicité\n",
    "    Versement_mensuel = (Valeur_Actif * Pourcentage_financement) * (Taux_mensuel_equivalent - 1) / (1 - (Taux_mensuel_equivalent) ** (-Durée_Années * 12))\n",
    "\n",
    "    # c) Valeur actuelle de l'hypothèque (montant restant à payer ou dette sur le bien)\n",
    "    Années_restantes = Durée_Années - Valeur_année\n",
    "    Croissance_Principal= Pourcentage_financement*Valeur_Actif*(Taux_mensuel_equivalent)**(Valeur_année*12)\n",
    "    Somme_Paiements_Effectués= Versement_mensuel* (Taux_mensuel_equivalent**(Valeur_année*12) -1)/ (Taux_mensuel_equivalent-1)\n",
    "\n",
    "    Live_Value = Croissance_Principal -Somme_Paiements_Effectués\n",
    "    return Live_Value\n",
    "\n",
    "# Exemple d'utilisation\n",
    "Valeur_Actif = 2500000  # Valeur du bien qu'on veut faire l'hypothèque\n",
    "taux_annuel = 10  # Taux d'intérêt annuel en pourcentage\n",
    "Durée_Années = 20  # Durée du prêt en années\n",
    "Valeur_année = 15  # Le nombre d'années après le début de l'hypothèque (moment qu'on cherche le montant restant à payer)\n",
    "Pourcentage_financement = 0.7  # Pourcentage du bien qu'on finance par hypothèque\n",
    "\n",
    "Valeur_Hypothèque = calculer_valeur_hypothèque(Valeur_Actif, Pourcentage_financement, taux_annuel, Durée_Années, Valeur_année)\n",
    "print(f\"La valeur de l'hypothèque après {Valeur_année} ans est de {Valeur_Hypothèque:.2f} $\")"
   ],
   "outputs": [
    {
     "name": "stdout",
     "output_type": "stream",
     "text": [
      "La valeur de l'hypothèque après 15 ans est de 787514.90 $\n"
     ]
    }
   ],
   "execution_count": 9
  },
  {
   "cell_type": "code",
   "metadata": {
    "ExecuteTime": {
     "end_time": "2025-03-20T02:33:28.104850Z",
     "start_time": "2025-03-20T02:33:28.095317Z"
    }
   },
   "source": [
    "#2.9. Valeur actuelle des flux monétaires augmentant à un taux constant\n",
    "\n",
    "def Valeur_Actuelle_Flux_Monétaires_Taux_Constant(Montant, Taux_Croissance_Montant, Taux_Rendement_Exigé, Durée_Années):\n",
    "    \"\"\"\n",
    "   Un dividende est distribué pour chaque Action. On assure une certaine croissance (Constante) sur un certain nombre d'années.\n",
    "    Un taux de rendement est exigé par le marché (dépend du secteur et autres). Quelle est la valeur actuelle des huit prochains dividendes.\n",
    "    :Taux de rendement exigée: Taux d'actualisation / WACC (Voir la différence)\n",
    "    \"\"\"\n",
    "\n",
    "    R=(Taux_Rendement_Exigé-Taux_Croissance_Montant)/(1+Taux_Croissance_Montant)\n",
    "    Value= (1-(1+R)**-Durée_Années)/(Taux_Rendement_Exigé)\n",
    "    Valeur_Actuelle= Value*(Montant*(1+Taux_Croissance_Montant))/(1+Taux_Croissance_Montant)\n",
    "\n",
    "    return Valeur_Actuelle\n",
    "\n",
    "# Exemple d'utilisation\n",
    "Montant = 3  # Montant du dividende\n",
    "Taux_Croissance_Montant = 0.05  # Taux d'intérêt annuel en pourcentage\n",
    "Taux_Rendement_Exigé= 0.08  # Taux d'actualisation ou WACC\n",
    "Durée_Années = 8  # Durée du prêt en années\n",
    "\n",
    "Dividende= Valeur_Actuelle_Flux_Monétaires_Taux_Constant(Montant, Taux_Croissance_Montant, Taux_Rendement_Exigé, Durée_Années)\n",
    "print(f\"Le montant de dividende distribué dans 1 an est de {Dividende:.2f} $\")"
   ],
   "outputs": [
    {
     "name": "stdout",
     "output_type": "stream",
     "text": [
      "Le montant de dividende distribué dans 1 an est de 7.57 $\n"
     ]
    }
   ],
   "execution_count": 10
  },
  {
   "cell_type": "code",
   "metadata": {
    "ExecuteTime": {
     "end_time": "2025-03-20T02:33:28.178634Z",
     "start_time": "2025-03-20T02:33:28.169545Z"
    }
   },
   "source": [
    "#2.10. La valeur future des flux monétaires augmentant à un taux constant\n",
    "\n",
    "def Valeur_Future_Flux_Monétaires_Taux_Constant(Montant, Taux_Croissance_Montant, Taux_Rendement_Exigé, Durée_Années):\n",
    "    \"\"\"\n",
    "    Calcule la valeur future des flux monétaires augmentant à un taux constant.\n",
    "    \n",
    "    :param Montant: Le montant initial du dividende ou du flux monétaire.\n",
    "    :param Taux_Croissance_Montant: Le taux de croissance annuel des flux monétaires (en décimal).\n",
    "    :param Taux_Rendement_Exigé: Le taux de rendement exigé ou taux d'actualisation (en décimal).\n",
    "    :param Durée_Années: La durée en années sur laquelle les flux monétaires sont projetés.\n",
    "    :return: La valeur future des flux monétaires.\n",
    "    \"\"\"\n",
    "    Valeur_Future = 0\n",
    "    \n",
    "    for t in range(1, Durée_Années + 1):\n",
    "        CF_t = Montant * (1 + Taux_Croissance_Montant) ** (t - 1)\n",
    "        Valeur_Future += CF_t * (1 + Taux_Rendement_Exigé) ** (Durée_Années - t)\n",
    "    \n",
    "    return Valeur_Future\n",
    "\n",
    "# Exemple d'utilisation\n",
    "Montant = 3  # Montant initial du dividende\n",
    "Taux_Croissance_Montant = 0.05  # Taux de croissance annuel en décimal (5%)\n",
    "Taux_Rendement_Exigé = 0.08  # Taux de rendement exigé en décimal (8%)\n",
    "Durée_Années = 8  # Durée en années\n",
    "\n",
    "Valeur_Future = Valeur_Future_Flux_Monétaires_Taux_Constant(Montant, Taux_Croissance_Montant, Taux_Rendement_Exigé, Durée_Années)\n",
    "print(f\"La valeur future des flux monétaires est de {Valeur_Future:.2f} $\")\n"
   ],
   "outputs": [
    {
     "name": "stdout",
     "output_type": "stream",
     "text": [
      "La valeur future des flux monétaires est de 37.35 $\n"
     ]
    }
   ],
   "execution_count": 11
  },
  {
   "cell_type": "code",
   "metadata": {
    "ExecuteTime": {
     "end_time": "2025-03-20T02:33:28.253497Z",
     "start_time": "2025-03-20T02:33:28.245190Z"
    }
   },
   "source": [
    "#2.11. Le taux d'intérêt effectif ou annuel équivalent\n",
    "\n",
    "def taux_annuel_effectif(taux_mensuel,Nombre_Capitalisation_Par_An):\n",
    "    \"\"\"\n",
    "    Calcule le taux d'intérêt annuel effectif à partir du taux d'intérêt mensuel.\n",
    "    \"\"\"\n",
    "    taux_annuel = (1 + taux_mensuel) ** Nombre_Capitalisation_Par_An - 1\n",
    "    return taux_annuel\n",
    "\n",
    "# Exemple d'utilisation :\n",
    "taux_mensuel = 0.01  # 1% de taux d'intérêt mensuel\n",
    "Nombre_Capitalisation_Par_An=12\n",
    "taux_annuel = taux_annuel_effectif(taux_mensuel,Nombre_Capitalisation_Par_An)\n",
    "print(f\"Le taux d'intérêt annuel effectif est : {taux_annuel * 100:.2f} %\")\n",
    "\n",
    "# Ne fait pas une grande différence même avec une infinité par année\n",
    "\n"
   ],
   "outputs": [
    {
     "name": "stdout",
     "output_type": "stream",
     "text": [
      "Le taux d'intérêt annuel effectif est : 12.68 %\n"
     ]
    }
   ],
   "execution_count": 12
  },
  {
   "cell_type": "code",
   "metadata": {
    "ExecuteTime": {
     "end_time": "2025-03-20T02:33:28.339918Z",
     "start_time": "2025-03-20T02:33:28.325530Z"
    }
   },
   "source": [
    "#2.11. (Tableau 2.6) Calcul du taux d'intérêt effectif èa partir de la fréquence de capitalisation par année\n",
    "\n",
    "\n",
    "\n",
    "import pandas as pd\n",
    "\n",
    "def taux_annuel_effectif(taux_mensuel, Nombre_Capitalisation_Par_An):\n",
    "    \"\"\"\n",
    "    Calcule le taux d'intérêt annuel effectif à partir du taux d'intérêt mensuel.\n",
    "    \"\"\"\n",
    "    taux_annuel = (1 + taux_mensuel / Nombre_Capitalisation_Par_An) ** Nombre_Capitalisation_Par_An - 1\n",
    "    return taux_annuel\n",
    "\n",
    "# Exemple d'utilisation avec différents taux mensuels\n",
    "taux_mensuels = [0.08, 0.12, 0.16, 0.20]  # Taux d'intérêts annuels de base\n",
    "\n",
    "# Calcul des valeurs pour chaque fréquence de capitalisation\n",
    "capitalisation_1 = [taux_annuel_effectif(taux, 1) for taux in taux_mensuels]\n",
    "capitalisation_4 = [taux_annuel_effectif(taux, 4) for taux in taux_mensuels]\n",
    "capitalisation_12 = [taux_annuel_effectif(taux, 12) for taux in taux_mensuels]\n",
    "capitalisation_100 = [taux_annuel_effectif(taux, 100) for taux in taux_mensuels]\n",
    "\n",
    "# Création du DataFrame avec les données correctes\n",
    "data = {\n",
    "    'Intérêts (%)': [taux * 100 for taux in taux_mensuels],\n",
    "    '1 Capitalisation': [val * 100 for val in capitalisation_1],\n",
    "    '4 Capitalisations': [val * 100 for val in capitalisation_4],\n",
    "    '12 Capitalisations': [val * 100 for val in capitalisation_12],\n",
    "    '100 Capitalisations': [val * 100 for val in capitalisation_100]\n",
    "}\n",
    "\n",
    "df = pd.DataFrame(data)\n",
    "\n",
    "# Ajout d'un titre (juste pour l'affichage)\n",
    "title = \"Tableau 2.6. Calcul du taux d'intérêt effectif à partir de la fréquence de capitalisation par année\"\n",
    "\n",
    "# Affichage du titre et du DataFrame\n",
    "print(title)\n",
    "print(df)\n",
    "\n"
   ],
   "outputs": [
    {
     "name": "stdout",
     "output_type": "stream",
     "text": [
      "Tableau 2.6. Calcul du taux d'intérêt effectif à partir de la fréquence de capitalisation par année\n",
      "   Intérêts (%)  1 Capitalisation  4 Capitalisations  12 Capitalisations  \\\n",
      "0           8.0               8.0           8.243216            8.299951   \n",
      "1          12.0              12.0          12.550881           12.682503   \n",
      "2          16.0              16.0          16.985856           17.227080   \n",
      "3          20.0              20.0          21.550625           21.939108   \n",
      "\n",
      "   100 Capitalisations  \n",
      "0             8.325242  \n",
      "1            12.741574  \n",
      "2            17.336083  \n",
      "3            22.115883  \n"
     ]
    }
   ],
   "execution_count": 13
  },
  {
   "cell_type": "code",
   "metadata": {
    "ExecuteTime": {
     "end_time": "2025-03-20T02:33:28.428801Z",
     "start_time": "2025-03-20T02:33:28.417915Z"
    }
   },
   "source": [
    "#2.12. L'amortissement d'une dette et l' amortissement financier\n",
    "\n",
    "def Amortissement_Dette(Montant_Emprunté,taux_interet, Nbr_Années, Nbr_Fois_Par_Année):\n",
    "    \"\"\"\n",
    "    Retourne le facteurs d'intérêt de la valeur actuelle d'une annuité d'un dollar au taux r pour n périodes\n",
    "    \"\"\"\n",
    "    nombre_periodes=Nbr_Années*Nbr_Fois_Par_Année\n",
    "    Taux_Interet_Mensuel=taux_interet/Nbr_Fois_Par_Année\n",
    "\n",
    "    Ratio = (1 - ((1 + Taux_Interet_Mensuel)** -nombre_periodes)) / Taux_Interet_Mensuel\n",
    "    Valeur_Presente =Montant_Emprunté/Ratio\n",
    "    \n",
    "    return Valeur_Presente\n",
    "\n",
    "def Valeur_Actuelle_Principal_Circulation_Nième_Paiement(Montant_Emprunté,taux_interet, Nbr_Années, Nbr_Fois_Par_Année, Nième_Paiement):\n",
    "    \"\"\"\n",
    "    La valeur actuelle du prinicipal en circulation aprèes le enièeme versement:\n",
    "    utile pour savoir combien qu'on doit payer en entier pour rembourser la dette à un certain moment\n",
    "    \"\"\"\n",
    "    nombre_periodes=Nbr_Années*Nbr_Fois_Par_Année-Nième_Paiement\t\n",
    "    Taux_Interet_Mensuel=taux_interet/Nbr_Fois_Par_Année\n",
    "\n",
    "    Ratio = (1 - ((1 + Taux_Interet_Mensuel)** -nombre_periodes)) / Taux_Interet_Mensuel\n",
    "    Valeur_Presente =Montant_Emprunté*Ratio\n",
    "    \n",
    "    return Valeur_Presente\n",
    "\n",
    "# Taux d'intérêt par période\n",
    "taux_interet = 0.12  # 15% en décimal\n",
    "Montant_Emprunté = 10000  # Montant du dividende\n",
    "Nbr_Années=5 # Nombre d'années que les paiements durent\n",
    "Nbr_Fois_Par_Année=2 # Nombre de fois qu'on effectue des paiements par année\n",
    "Nième_Paiement=6 # Après combien de versements qu'on veut rembourser la dette?\n",
    "\n",
    "Valeur= Amortissement_Dette(Montant_Emprunté,taux_interet, Nbr_Années, Nbr_Fois_Par_Année)\n",
    "print(f\"Valeur des versements pour rembourser le prêt sur {Nbr_Années} ans ({Nbr_Fois_Par_Année} fois par année): {Valeur:.2f}$ \")\n",
    "\n",
    "Valeur_Actuelle_prin=Valeur_Actuelle_Principal_Circulation_Nième_Paiement(Valeur,taux_interet, Nbr_Années, Nbr_Fois_Par_Année , Nième_Paiement)\n",
    "print(f\"Sachant que l'emprunt initial était de {Montant_Emprunté:.2f} $: Après le {Nième_Paiement} ième paiement, pour rembourser la dette dans son entièreté, il faut {Valeur_Actuelle_prin:.2f}$ \")\n",
    "\n",
    "\n",
    "\n",
    "\n"
   ],
   "outputs": [
    {
     "name": "stdout",
     "output_type": "stream",
     "text": [
      "Valeur des versements pour rembourser le prêt sur 5 ans (2 fois par année): 1358.68$ \n",
      "Sachant que l'emprunt initial était de 10000.00 $: Après le 6 ième paiement, pour rembourser la dette dans son entièreté, il faut 4707.97$ \n"
     ]
    }
   ],
   "execution_count": 14
  },
  {
   "cell_type": "code",
   "metadata": {
    "ExecuteTime": {
     "end_time": "2025-03-20T02:33:30.711147Z",
     "start_time": "2025-03-20T02:33:28.493640Z"
    }
   },
   "source": [
    "#2.12. L'amortissement d'une dette et l' amortissement financier (Upgrade)\n",
    "\n",
    "import pandas as pd\n",
    "\n",
    "# Paramètres du prêt\n",
    "montant_initial = 10000  # Le montant initial du prêt\n",
    "taux_interet_annuel = 0.12  # Taux d'intérêt annuel\n",
    "paiements_par_an = 2  # Paiements semestriels\n",
    "duree_annees = 5  # Durée du prêt en années\n",
    "paiement_par_periode = 1358.69  # Paiement par période\n",
    "\n",
    "# Créer un DataFrame pour stocker le tableau d'amortissement\n",
    "index_periodes = range(1, paiements_par_an * duree_annees + 1)\n",
    "colonnes = ['Semestre|', 'Prin. Circulation|', 'Intérêt période|', 'Versement|', 'Portion principal']\n",
    "amortissement = pd.DataFrame(index=index_periodes, columns=colonnes)\n",
    "solde_restant = montant_initial\n",
    "\n",
    "# Remplir le tableau d'amortissement\n",
    "for periode in index_periodes:\n",
    "    interet = round(solde_restant * (taux_interet_annuel / paiements_par_an), 2)\n",
    "    principal = round(paiement_par_periode - interet, 2)\n",
    "    solde_restant = round(solde_restant - principal, 2)\n",
    "    \n",
    "    # Correction pour le dernier paiement\n",
    "    if periode == max(index_periodes) and solde_restant != 0:\n",
    "        principal += solde_restant\n",
    "        solde_restant = 0\n",
    "    \n",
    "    amortissement.loc[periode] = [periode, solde_restant + principal, interet, paiement_par_periode, principal]\n",
    "\n",
    "# Ajouter le montant initial du prêt dans la première ligne de la colonne \"Principal en circulation\"\n",
    "amortissement.iloc[0, 1] = montant_initial\n",
    "\n",
    "# Afficher le DataFrame\n",
    "print('Échéancier damortissement demprunt')\n",
    "print(amortissement)\n",
    "\n",
    "\n",
    "\n",
    "\n",
    "import matplotlib.pyplot as plt\n",
    "\n",
    "# Créer les séries de données pour le graphique\n",
    "periodes = amortissement.index + 1  # Commencer les périodes à partir de 1\n",
    "principal_circulation = amortissement['Prin. Circulation|']\n",
    "interet_periode = amortissement['Intérêt période|']\n",
    "portion_principal = amortissement['Portion principal']\n",
    "\n",
    "# Créer le graphique\n",
    "plt.figure(figsize=(10, 6))\n",
    "\n",
    "# Tracer les données avec des marqueurs plus visibles et des lignes plus épaisses\n",
    "plt.plot(periodes, principal_circulation, label='Principal en circulation', marker='o', linestyle='-', linewidth=2)\n",
    "plt.plot(periodes, interet_periode, label='Intérêt par période', marker='x', linestyle='--', linewidth=2)\n",
    "plt.plot(periodes, portion_principal, label='Portion du principal', marker='s', linestyle='-.', linewidth=2)\n",
    "\n",
    "# Ajouter des annotations à chaque point\n",
    "for i in range(len(periodes)):\n",
    "    plt.annotate(f'{principal_circulation.iloc[i]:.2f}', (periodes[i], principal_circulation.iloc[i]), textcoords=\"offset points\", xytext=(0,10), ha='center')\n",
    "    plt.annotate(f'{interet_periode.iloc[i]:.2f}', (periodes[i], interet_periode.iloc[i]), textcoords=\"offset points\", xytext=(0,-10), ha='center')\n",
    "    plt.annotate(f'{portion_principal.iloc[i]:.2f}', (periodes[i], portion_principal.iloc[i]), textcoords=\"offset points\", xytext=(0,10), ha='center')\n",
    "\n",
    "# Ajouter des titres et labels\n",
    "plt.title(\"Évolution détaillée de l'amortissement du prêt\", fontsize=16)\n",
    "plt.xlabel(\"Semestre\", fontsize=14)\n",
    "plt.ylabel(\"Montant ($)\", fontsize=14)\n",
    "\n",
    "# Améliorer la grille\n",
    "plt.grid(True, linestyle='--', alpha=0.6)\n",
    "\n",
    "# Afficher la légende avec une meilleure position\n",
    "plt.legend(loc='upper right', fontsize=12)\n",
    "\n",
    "# Afficher le graphique\n",
    "plt.show()\n",
    "\n",
    "\n"
   ],
   "outputs": [
    {
     "name": "stdout",
     "output_type": "stream",
     "text": [
      "Échéancier damortissement demprunt\n",
      "   Semestre| Prin. Circulation| Intérêt période| Versement| Portion principal\n",
      "1          1              10000            600.0    1358.69            758.69\n",
      "2          2            9241.31           554.48    1358.69            804.21\n",
      "3          3             8437.1           506.23    1358.69            852.46\n",
      "4          4            7584.64           455.08    1358.69            903.61\n",
      "5          5            6681.03           400.86    1358.69            957.83\n",
      "6          6             5723.2           343.39    1358.69            1015.3\n",
      "7          7             4707.9           282.47    1358.69           1076.22\n",
      "8          8            3631.68            217.9    1358.69           1140.79\n",
      "9          9            2490.89           149.45    1358.69           1209.24\n",
      "10        10            1281.65             76.9    1358.69           1281.65\n"
     ]
    },
    {
     "data": {
      "text/plain": [
       "<Figure size 1000x600 with 1 Axes>"
      ],
      "image/png": "[encoded data removed]"
     },
     "metadata": {},
     "output_type": "display_data"
    }
   ],
   "execution_count": 15
  },
  {
   "cell_type": "code",
   "metadata": {
    "ExecuteTime": {
     "end_time": "2025-03-20T02:51:13.098499Z",
     "start_time": "2025-03-20T02:51:13.088466Z"
    }
   },
   "source": [
    "#2.12.2. Amortissement d'une dette à l'aide de versements périodiques dans un compte à intérêts constants\n",
    "\"\"\"\n",
    "Ce programme calcule le montant des paiements périodiques (FM) nécessaires pour rembourser une dette future en utilisant un fonds d’amortissement à intérêts composés. \n",
    "Il s’appuie sur le principe financier selon lequel des versements réguliers, placés dans un compte générant des intérêts, permettent d’accumuler une somme suffisante \n",
    "au bout d’une période donnée. \n",
    "\n",
    "Le programme suit trois étapes :\n",
    "1. Calcul du facteur de valeur future S_{n*m; i}, qui mesure l’effet de la capitalisation des paiements périodiques.\n",
    "2. Détermination du paiement périodique FM en divisant la valeur future de la dette par ce facteur.\n",
    "3. Vérification de la somme réellement accumulée après n années en multipliant FM par un facteur ajusté.\n",
    "\n",
    "Cette méthode est couramment utilisée en finance pour planifier des remboursements structurés en tenant compte de la croissance des fonds grâce aux intérêts composés.\n",
    "\"\"\"\n",
    "\n",
    "import math\n",
    "\n",
    "def facteur_valeur_future(n_m, taux_periodique):\n",
    "    \"\"\"\n",
    "    Calcule le facteur de valeur future d'une annuité immédiate : S_{n*m ; i}\n",
    "    \n",
    "    Paramètres:\n",
    "      n_m : int -> Nombre total de périodes.\n",
    "      taux_periodique : float -> Taux d'intérêt par période.\n",
    "    \n",
    "    Retour:\n",
    "      float -> Valeur du facteur S_{n*m ; i}.\n",
    "    \"\"\"\n",
    "    return ((1 + taux_periodique) ** n_m - 1) / taux_periodique\n",
    "\n",
    "def paiement_periodique(VFA, S_n_m_pour_FM):\n",
    "    \"\"\"\n",
    "    Calcule le montant du paiement périodique FM.\n",
    "    \n",
    "    Paramètres:\n",
    "      VFA : float -> Valeur future de l'annuité.\n",
    "      S_n_m_pour_FM : float -> Facteur S_{n*m ; i} pour FM.\n",
    "    \n",
    "    Retour:\n",
    "      float -> Montant du paiement périodique FM.\n",
    "    \"\"\"\n",
    "    return VFA / S_n_m_pour_FM\n",
    "\n",
    "def somme_accumulee(FM, S_n_m_pour_somme):\n",
    "    \"\"\"\n",
    "    Calcule la somme accumulée dans le fonds d’amortissement après n années.\n",
    "    \n",
    "    Paramètres:\n",
    "      FM : float -> Montant du paiement périodique.\n",
    "      S_n_m_pour_somme : float -> Facteur S_{n*m ; i} pour la somme accumulée.\n",
    "    \n",
    "    Retour:\n",
    "      float -> Somme accumulée après n années.\n",
    "    \"\"\"\n",
    "    return FM * S_n_m_pour_somme  # 🔥 Multiplication directe avec le bon facteur\n",
    "\n",
    "# 🔹 Données du problème\n",
    "VFA = 1000            # Somme à rembourser dans 4 ans\n",
    "n = 4                # Nombre d'années\n",
    "m = 4                # Versements trimestriels (12/3)\n",
    "taux_annuel = 0.08   # Taux d'intérêt annuel (8%)\n",
    "\n",
    "# 🔹 Calcul des valeurs\n",
    "taux_periodique = taux_annuel / m  # Taux trimestriel (8% / 4 = 2% = 0.02)\n",
    "n_m = n * m  # Nombre total de périodes (4 × 4 = 16)\n",
    "\n",
    "# 🔹 Calcul des deux facteurs de valeur future\n",
    "S_n_m_pour_FM = facteur_valeur_future(n_m, taux_periodique)  # Facteur pour FM\n",
    "S_n_m_pour_somme = 13.578  # 🔥 Facteur donné dans le livre\n",
    "\n",
    "# 🔹 Calculs\n",
    "FM = paiement_periodique(VFA, S_n_m_pour_FM)  # Calcul du paiement périodique\n",
    "somme_acc = somme_accumulee(FM, S_n_m_pour_somme)  # Somme accumulée après 4 ans\n",
    "\n",
    "# 🔹 Affichage des résultats\n",
    "print(f\"Le montant du paiement périodique est de {FM:.2f}$\")\n",
    "print(f\"La somme accumulée dans le fonds d’amortissement après {n} ans est de {somme_acc:.2f}$\")\n"
   ],
   "outputs": [
    {
     "name": "stdout",
     "output_type": "stream",
     "text": [
      "Le montant du paiement périodique est de 53.65$\n",
      "La somme accumulée dans le fonds d’amortissement après 4 ans est de 728.46$\n"
     ]
    }
   ],
   "execution_count": 32
  },
  {
   "cell_type": "markdown",
   "metadata": {},
   "source": [
    "2.13. Le choix du taux de rendement approprié à des fins d'actualisation et de capitalisation\n",
    "\n",
    "Taux de rendement requis= taux réel d'intérêts + prime d'inflation + prime de risque \n",
    "Annexxe 2.1. Méthodes de calcul de la valeur\n",
    "\n",
    "\n",
    "\n",
    "-La valeur actuelle nette et le taux de rendement interne (TRI) \n",
    "valeur actuelle nette (VAN)\n",
    "\n",
    "Si TRI < Ko (Coût du capital), le projet est accepté\n",
    "Si TRI > Ko, le projet est refusé\n",
    "\n",
    "But: maximiser la VAN\n",
    "\n",
    "\n",
    "\n",
    "NOTIONS À VOIR DANS L'ANNEXE!!!!:\n",
    "\n",
    "-La valeur marchande ajoutée, l'excès de tauc de rendement et la valeur économique ajoutée\n",
    "\n",
    "-La valeur marchande ajoutée (VMA)\n",
    "\n",
    "-L'excès de rendement\n",
    "\n",
    "-La valeur économique ajoutée (VEA) ou le profit économique net (PEN)\n",
    "\n",
    "\n"
   ]
  },
  {
   "metadata": {
    "ExecuteTime": {
     "end_time": "2025-03-20T03:06:44.168248Z",
     "start_time": "2025-03-20T03:06:44.158095Z"
    }
   },
   "cell_type": "code",
   "source": [
    "# 2.13 Le choix du taux de rendement approprié à des fins d'actualisation et de capitalisation\n",
    "\n",
    "\"\"\"\n",
    "Ce programme calcule le taux de rendement requis pour un investissement en tenant compte de trois composantes essentielles :\n",
    "1. Le **taux réel** : Il représente le rendement de base du capital, indépendamment de l'inflation et du risque.\n",
    "2. La **prime d'inflation** : Elle compense la perte de valeur de l'argent due à l'inflation.\n",
    "3. La **prime de risque** : Elle représente le rendement supplémentaire exigé par les investisseurs pour compenser l'incertitude et le risque d'insolvabilité.\n",
    "\n",
    "Le taux de rendement requis est donc la somme de ces trois facteurs et permet d'évaluer si un investissement est intéressant.\n",
    "Un investisseur utilisera ce taux comme **seuil minimum** pour accepter ou refuser un projet.\n",
    "\n",
    "Exemple d'application :\n",
    "- Un investisseur souhaite acheter une obligation.\n",
    "- Le rendement sans risque (ex : bons du Trésor) est de 2%.\n",
    "- L'inflation attendue est de 3%.\n",
    "- L'entreprise a un risque élevé nécessitant une prime de 4.5%.\n",
    "- Le taux de rendement exigé sera alors **9.5%**.\n",
    "- Si l'obligation offre un rendement inférieur à 9.5%, ce n'est pas un bon investissement.\n",
    "\n",
    "Ce concept est fondamental en finance pour évaluer la rentabilité et la viabilité d’un placement en fonction du temps et du risque associé.\n",
    "\"\"\"\n",
    "\n",
    "\n",
    "def prime_de_risque(rendement_marche, taux_sans_risque, beta):\n",
    "    \"\"\"\n",
    "    Calcule la prime de risque en utilisant le modèle CAPM.\n",
    "\n",
    "    Paramètres :\n",
    "      rendement_marche : float -> Rendement attendu du marché (%).\n",
    "      taux_sans_risque : float -> Taux sans risque (%).\n",
    "      beta : float -> Coefficient de volatilité de l’actif.\n",
    "\n",
    "    Retour :\n",
    "      float -> Prime de risque (%).\n",
    "    \"\"\"\n",
    "    return (rendement_marche - taux_sans_risque) * beta\n",
    "\n",
    "# 🔹 Exemple d'utilisation :\n",
    "rendement_marche = 8.0  # Rendement moyen du marché (%)\n",
    "taux_sans_risque = 2.0  # Taux des obligations d'État (%)\n",
    "beta = 1.2  # Volatilité relative de l'investissement\n",
    "\n",
    "prime = prime_de_risque(rendement_marche, taux_sans_risque, beta)\n",
    "print(f\"La prime de risque est de {prime:.2f}%\")\n",
    "\n",
    "\n",
    "\n",
    "\n",
    "\n",
    "def taux_rendement_requis(taux_reel, prime_inflation, prime_risque):\n",
    "    \"\"\"\n",
    "    Calcule le taux de rendement requis pour un investissement.\n",
    "\n",
    "    Paramètres :\n",
    "      taux_reel : float -> Taux d’intérêt réel (%)\n",
    "      prime_inflation : float -> Prime pour compenser l’inflation (%)\n",
    "      prime_risque : float -> Prime pour compenser le risque (%)\n",
    "    \n",
    "    Retour :\n",
    "      float -> Taux de rendement requis (%)\n",
    "    \"\"\"\n",
    "    return taux_reel + prime_inflation + prime_risque\n",
    "\n",
    "# 🔹 Exemple d'utilisation :\n",
    "taux_reel = 2.0  # 2% de rendement réel\n",
    "prime_inflation = 3.0  # 3% pour compenser l'inflation\n",
    "prime_risque = 4.5  # 4.5% pour compenser le risque d’investissement\n",
    "\n",
    "# Calcul du taux de rendement requis\n",
    "taux_requis = taux_rendement_requis(taux_reel, prime_inflation, prime_risque)\n",
    "\n",
    "# Affichage du résultat\n",
    "print(f\"Le taux de rendement requis est de {taux_requis:.2f}%\")\n",
    "\n"
   ],
   "outputs": [
    {
     "name": "stdout",
     "output_type": "stream",
     "text": [
      "La prime de risque est de 7.20%\n",
      "Le taux de rendement requis est de 9.50%\n"
     ]
    }
   ],
   "execution_count": 35
  },
  {
   "cell_type": "code",
   "metadata": {
    "ExecuteTime": {
     "end_time": "2025-03-20T02:50:58.764681Z",
     "start_time": "2025-03-20T02:50:58.752902Z"
    }
   },
   "source": [
    "\n",
    "#Utilisation de la VAN\n",
    "\n",
    "def calculer_van(investissement_initial, flux_de_tresorerie, taux_actualisation):\n",
    "    \"\"\"\n",
    "    Calculer la Valeur Actuelle Nette (VAN).\n",
    "    \n",
    "    Arguments:\n",
    "    investissement_initial -- montant de l'investissement initial (souvent négatif)\n",
    "    flux_de_tresorerie -- liste des flux de trésorerie attendus (sans l'investissement initial)\n",
    "    taux_actualisation -- taux d'actualisation (en décimal, par exemple 0.1 pour 10%)\n",
    "    \n",
    "    Retourne:\n",
    "    La Valeur Actuelle Nette (VAN).\n",
    "    \"\"\"\n",
    "    van = -investissement_initial  # Commence par l'investissement initial (négatif)\n",
    "    for t in range(len(flux_de_tresorerie)):\n",
    "        van += flux_de_tresorerie[t] / (1 + taux_actualisation)**(t + 1)\n",
    "    return van\n",
    "\n",
    "def evaluer_projet(van):\n",
    "    \"\"\"\n",
    "    Évaluer un projet basé sur la VAN.\n",
    "    \n",
    "    Arguments:\n",
    "    van -- Valeur Actuelle Nette calculée\n",
    "    \n",
    "    Retourne:\n",
    "    Une recommandation d'accepter ou de refuser le projet.\n",
    "    \"\"\"\n",
    "    if van > 0:\n",
    "        return \"Accepté\"\n",
    "    elif van < 0:\n",
    "        return \"Refusé\"\n",
    "    else:\n",
    "        return \"Neutre\"\n",
    "\n",
    "# Exemple d'utilisation\n",
    "investissement_initial = 1000  # coût du projet (investissement initial)\n",
    "flux_de_tresorerie = [200, 300, 400, 500, 600]  # flux de trésorerie attendus sur 5 ans\n",
    "taux_actualisation = 0.08  # taux d'actualisation de 8% (WACC)\n",
    "\n",
    "# Calculer la VAN\n",
    "van = calculer_van(investissement_initial, flux_de_tresorerie, taux_actualisation)\n",
    "print(f\"La Valeur Actuelle Nette (VAN) est de {van:.2f}$\")\n",
    "\n",
    "# Évaluer le projet\n",
    "decision = evaluer_projet(van)\n",
    "print(f\"Le projet est {decision}.\")\n"
   ],
   "outputs": [
    {
     "name": "stdout",
     "output_type": "stream",
     "text": [
      "La Valeur Actuelle Nette (VAN) est de 535.78$\n",
      "Le projet est Accepté.\n"
     ]
    }
   ],
   "execution_count": 31
  }
 ],
 "metadata": {
  "kernelspec": {
   "display_name": "Venv_Gestion_Finance",
   "language": "python",
   "name": "python3"
  },
  "language_info": {
   "codemirror_mode": {
    "name": "ipython",
    "version": 3
   },
   "file_extension": ".py",
   "mimetype": "text/x-python",
   "name": "python",
   "nbconvert_exporter": "python",
   "pygments_lexer": "ipython3",
   "version": "3.12.1"
  }
 },
 "nbformat": 4,
 "nbformat_minor": 2
}
