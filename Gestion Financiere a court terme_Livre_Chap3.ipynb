{
 "cells": [
  {
   "metadata": {},
   "cell_type": "markdown",
   "source": "# Gestion financière à court terme et éléments de théorie financière",
   "id": "8fa0b6a3e7d0890d"
  },
  {
   "metadata": {},
   "cell_type": "markdown",
   "source": "## Chapitre 3: Les modèles d'évaluation du rendement, du risque et d'un actif\n",
   "id": "85126d7e8fe9bc07"
  },
  {
   "metadata": {},
   "cell_type": "markdown",
   "source": "",
   "id": "28163fd58dd4e5f2"
  },
  {
   "metadata": {},
   "cell_type": "markdown",
   "source": "",
   "id": "be9bb96c1fe80f5c"
  },
  {
   "metadata": {},
   "cell_type": "code",
   "outputs": [],
   "execution_count": null,
   "source": "",
   "id": "aca784efe1ded37b"
  }
 ],
 "metadata": {
  "kernelspec": {
   "display_name": "Python 3",
   "language": "python",
   "name": "python3"
  },
  "language_info": {
   "codemirror_mode": {
    "name": "ipython",
    "version": 2
   },
   "file_extension": ".py",
   "mimetype": "text/x-python",
   "name": "python",
   "nbconvert_exporter": "python",
   "pygments_lexer": "ipython2",
   "version": "2.7.6"
  }
 },
 "nbformat": 4,
 "nbformat_minor": 5
}
